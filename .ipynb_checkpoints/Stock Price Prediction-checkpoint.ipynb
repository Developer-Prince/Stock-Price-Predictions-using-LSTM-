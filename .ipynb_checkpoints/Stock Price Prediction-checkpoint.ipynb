{
 "cells": [
  {
   "cell_type": "code",
   "execution_count": 6,
   "id": "legitimate-brazilian",
   "metadata": {},
   "outputs": [],
   "source": [
    "import pandas as pd\n",
    "import numpy as np\n",
    "import matplotlib.pyplot as plt"
   ]
  },
  {
   "cell_type": "code",
   "execution_count": 7,
   "id": "steady-prior",
   "metadata": {},
   "outputs": [],
   "source": [
    "dataset_train = pd.read_csv('./Dataset/Google_Stock_Price_Train.csv')"
   ]
  },
  {
   "cell_type": "code",
   "execution_count": 11,
   "id": "jewish-program",
   "metadata": {},
   "outputs": [],
   "source": [
    "training_set = dataset_train.iloc[:,1:2].values"
   ]
  },
  {
   "cell_type": "code",
   "execution_count": 13,
   "id": "bright-affect",
   "metadata": {},
   "outputs": [
    {
     "data": {
      "text/plain": [
       "1258"
      ]
     },
     "execution_count": 13,
     "metadata": {},
     "output_type": "execute_result"
    }
   ],
   "source": [
    "len(training_set)"
   ]
  },
  {
   "cell_type": "markdown",
   "id": "federal-nation",
   "metadata": {},
   "source": [
    "# Feature Scaling"
   ]
  },
  {
   "cell_type": "code",
   "execution_count": 12,
   "id": "facial-window",
   "metadata": {},
   "outputs": [],
   "source": [
    "from sklearn.preprocessing import StandardScaler , MinMaxScaler\n",
    "\n",
    "sc = MinMaxScaler(feature_range=(0,1)) #feature range will be used to scale all the stock price in between 0 and 1\n",
    "\n",
    "training_set_scaled = sc.fit_transform(training_set)"
   ]
  },
  {
   "cell_type": "code",
   "execution_count": 14,
   "id": "collaborative-country",
   "metadata": {},
   "outputs": [],
   "source": [
    "#creating 60 timestamps and 1 output 1\n",
    "X_train = []\n",
    "y_train = []\n",
    "for i in range(60,len(training_set)):\n",
    "    X_train.append(training_set_scaled[i-60:i ,0])\n",
    "    y_train.append(training_set_scaled[i, 0])\n",
    "\n",
    "X_train , y_train = np.array(X_train),np.array(y_train) "
   ]
  },
  {
   "cell_type": "code",
   "execution_count": 17,
   "id": "regional-fluid",
   "metadata": {},
   "outputs": [
    {
     "data": {
      "text/plain": [
       "((1198, 60), (1198,))"
      ]
     },
     "execution_count": 17,
     "metadata": {},
     "output_type": "execute_result"
    }
   ],
   "source": [
    "X_train.shape , y_train.shape"
   ]
  },
  {
   "cell_type": "code",
   "execution_count": 36,
   "id": "banner-rider",
   "metadata": {},
   "outputs": [],
   "source": [
    "X_train = np.reshape(X_train , (X_train.shape[0] ,X_train.shape[1] , 1))"
   ]
  },
  {
   "cell_type": "markdown",
   "id": "handled-bridge",
   "metadata": {},
   "source": [
    "# Part 2 -- Building The RNN"
   ]
  },
  {
   "cell_type": "code",
   "execution_count": 37,
   "id": "married-senior",
   "metadata": {},
   "outputs": [],
   "source": [
    "from keras.models import Sequential\n",
    "from keras.layers import LSTM , Dropout , Dense"
   ]
  },
  {
   "cell_type": "code",
   "execution_count": 38,
   "id": "social-williams",
   "metadata": {},
   "outputs": [
    {
     "name": "stdout",
     "output_type": "stream",
     "text": [
      "--------------------------------------------------------------------------------------------------------------------------------------------------------------------------\n"
     ]
    }
   ],
   "source": [
    "regressor = Sequential()\n",
    "print('-'*170)"
   ]
  },
  {
   "cell_type": "markdown",
   "id": "popular-final",
   "metadata": {},
   "source": [
    "LSTM(units , return_sequences , input_dimensions)\n",
    "\n",
    "units - basically represents number of neurons.\n",
    "return_sequences - if you have stacked LSTM layers the you have to keep it TRUE and if have no more LSTM layers then keep FALSE (by default it is FALSE)\n",
    "input_dimensions = it take the dimensions (timestamps , indicators) , it doesn't take the number of rows in account beacuse it deal with that automatically.\n",
    "\n",
    "Dropout = how much amount of neurons you want to dropout during FF and Backprop.\n",
    "rate = 0.2 (represents the 20% of total nuerons in that layer will not be used during training .) "
   ]
  },
  {
   "cell_type": "code",
   "execution_count": 39,
   "id": "criminal-slovenia",
   "metadata": {},
   "outputs": [],
   "source": [
    "# adding the LSTM layers and the dropout layer\n",
    "regressor.add(LSTM(units = 50 , return_sequences = True , input_shape = (X_train.shape[1],1)))\n",
    "regressor.add(Dropout(rate = 0.2))\n",
    "\n",
    "# adding the second layer of LSTM and DROupout\n",
    "regressor.add(LSTM(units = 50 , return_sequences = True))\n",
    "regressor.add(Dropout(rate = 0.2))\n",
    "\n",
    "# adding the third layer of LSTM with 20% dropouts\n",
    "regressor.add(LSTM(units = 50 , return_sequences = True))\n",
    "regressor.add(Dropout(rate = 0.2))\n",
    "\n",
    "# adding the Fourth layer of the LSTM with 20% dropouts\n",
    "regressor.add(LSTM(units = 50 ))\n",
    "regressor.add(Dropout(rate = 0.2))"
   ]
  },
  {
   "cell_type": "code",
   "execution_count": 40,
   "id": "incorporated-thriller",
   "metadata": {},
   "outputs": [],
   "source": [
    "regressor.add(Dense(units = 1))"
   ]
  },
  {
   "cell_type": "code",
   "execution_count": 41,
   "id": "environmental-return",
   "metadata": {},
   "outputs": [],
   "source": [
    "regressor.compile(optimizer = 'adam' , loss = 'mean_squared_error')"
   ]
  },
  {
   "cell_type": "code",
   "execution_count": 42,
   "id": "excessive-swaziland",
   "metadata": {},
   "outputs": [
    {
     "name": "stdout",
     "output_type": "stream",
     "text": [
      "Epoch 1/100\n",
      "38/38 [==============================] - 20s 97ms/step - loss: 0.0940\n",
      "Epoch 2/100\n",
      "38/38 [==============================] - 4s 103ms/step - loss: 0.0068\n",
      "Epoch 3/100\n",
      "38/38 [==============================] - 4s 107ms/step - loss: 0.0062\n",
      "Epoch 4/100\n",
      "38/38 [==============================] - 5s 120ms/step - loss: 0.0066\n",
      "Epoch 5/100\n",
      "38/38 [==============================] - 5s 125ms/step - loss: 0.0047\n",
      "Epoch 6/100\n",
      "38/38 [==============================] - 4s 100ms/step - loss: 0.0049\n",
      "Epoch 7/100\n",
      "38/38 [==============================] - 4s 106ms/step - loss: 0.0046\n",
      "Epoch 8/100\n",
      "38/38 [==============================] - 4s 106ms/step - loss: 0.0056\n",
      "Epoch 9/100\n",
      "38/38 [==============================] - 5s 120ms/step - loss: 0.0043\n",
      "Epoch 10/100\n",
      "38/38 [==============================] - 5s 121ms/step - loss: 0.0040\n",
      "Epoch 11/100\n",
      "38/38 [==============================] - 5s 122ms/step - loss: 0.0045\n",
      "Epoch 12/100\n",
      "38/38 [==============================] - 5s 120ms/step - loss: 0.0039\n",
      "Epoch 13/100\n",
      "38/38 [==============================] - 4s 118ms/step - loss: 0.0043\n",
      "Epoch 14/100\n",
      "38/38 [==============================] - 5s 120ms/step - loss: 0.0034\n",
      "Epoch 15/100\n",
      "38/38 [==============================] - 5s 121ms/step - loss: 0.0043\n",
      "Epoch 16/100\n",
      "38/38 [==============================] - 5s 122ms/step - loss: 0.0035\n",
      "Epoch 17/100\n",
      "38/38 [==============================] - 5s 119ms/step - loss: 0.0039\n",
      "Epoch 18/100\n",
      "38/38 [==============================] - 4s 118ms/step - loss: 0.0038\n",
      "Epoch 19/100\n",
      "38/38 [==============================] - 5s 119ms/step - loss: 0.0040\n",
      "Epoch 20/100\n",
      "38/38 [==============================] - 5s 119ms/step - loss: 0.0032\n",
      "Epoch 21/100\n",
      "38/38 [==============================] - 5s 121ms/step - loss: 0.0032\n",
      "Epoch 22/100\n",
      "38/38 [==============================] - 5s 119ms/step - loss: 0.0038\n",
      "Epoch 23/100\n",
      "38/38 [==============================] - 5s 118ms/step - loss: 0.0034\n",
      "Epoch 24/100\n",
      "38/38 [==============================] - 5s 121ms/step - loss: 0.0037\n",
      "Epoch 25/100\n",
      "38/38 [==============================] - 5s 119ms/step - loss: 0.0039\n",
      "Epoch 26/100\n",
      "38/38 [==============================] - 5s 122ms/step - loss: 0.0033\n",
      "Epoch 27/100\n",
      "38/38 [==============================] - 5s 131ms/step - loss: 0.0029\n",
      "Epoch 28/100\n",
      "38/38 [==============================] - 5s 120ms/step - loss: 0.0034\n",
      "Epoch 29/100\n",
      "38/38 [==============================] - 4s 116ms/step - loss: 0.0037\n",
      "Epoch 30/100\n",
      "38/38 [==============================] - 5s 138ms/step - loss: 0.0033\n",
      "Epoch 31/100\n",
      "38/38 [==============================] - 4s 106ms/step - loss: 0.0031\n",
      "Epoch 32/100\n",
      "38/38 [==============================] - 3s 88ms/step - loss: 0.0030\n",
      "Epoch 33/100\n",
      "38/38 [==============================] - 4s 97ms/step - loss: 0.0030\n",
      "Epoch 34/100\n",
      "38/38 [==============================] - 4s 94ms/step - loss: 0.0031\n",
      "Epoch 35/100\n",
      "38/38 [==============================] - 3s 74ms/step - loss: 0.0031\n",
      "Epoch 36/100\n",
      "38/38 [==============================] - 3s 70ms/step - loss: 0.0029\n",
      "Epoch 37/100\n",
      "38/38 [==============================] - 3s 79ms/step - loss: 0.0030\n",
      "Epoch 38/100\n",
      "38/38 [==============================] - 3s 71ms/step - loss: 0.0030\n",
      "Epoch 39/100\n",
      "38/38 [==============================] - 3s 70ms/step - loss: 0.0028\n",
      "Epoch 40/100\n",
      "38/38 [==============================] - 3s 70ms/step - loss: 0.0029\n",
      "Epoch 41/100\n",
      "38/38 [==============================] - 3s 69ms/step - loss: 0.0026\n",
      "Epoch 42/100\n",
      "38/38 [==============================] - 3s 68ms/step - loss: 0.0026\n",
      "Epoch 43/100\n",
      "38/38 [==============================] - 3s 70ms/step - loss: 0.0027\n",
      "Epoch 44/100\n",
      "38/38 [==============================] - 3s 75ms/step - loss: 0.0029\n",
      "Epoch 45/100\n",
      "38/38 [==============================] - 3s 83ms/step - loss: 0.0029\n",
      "Epoch 46/100\n",
      "38/38 [==============================] - 3s 70ms/step - loss: 0.0026\n",
      "Epoch 47/100\n",
      "38/38 [==============================] - 3s 69ms/step - loss: 0.0023\n",
      "Epoch 48/100\n",
      "38/38 [==============================] - 3s 74ms/step - loss: 0.0024\n",
      "Epoch 49/100\n",
      "38/38 [==============================] - 3s 69ms/step - loss: 0.0024\n",
      "Epoch 50/100\n",
      "38/38 [==============================] - 3s 70ms/step - loss: 0.0026\n",
      "Epoch 51/100\n",
      "38/38 [==============================] - 3s 69ms/step - loss: 0.0024\n",
      "Epoch 52/100\n",
      "38/38 [==============================] - 3s 72ms/step - loss: 0.0024\n",
      "Epoch 53/100\n",
      "38/38 [==============================] - 3s 72ms/step - loss: 0.0023\n",
      "Epoch 54/100\n",
      "38/38 [==============================] - 3s 76ms/step - loss: 0.0026\n",
      "Epoch 55/100\n",
      "38/38 [==============================] - 3s 75ms/step - loss: 0.0026\n",
      "Epoch 56/100\n",
      "38/38 [==============================] - 3s 69ms/step - loss: 0.0024\n",
      "Epoch 57/100\n",
      "38/38 [==============================] - 3s 75ms/step - loss: 0.0022\n",
      "Epoch 58/100\n",
      "38/38 [==============================] - 3s 69ms/step - loss: 0.0021\n",
      "Epoch 59/100\n",
      "38/38 [==============================] - 3s 68ms/step - loss: 0.0021\n",
      "Epoch 60/100\n",
      "38/38 [==============================] - 3s 66ms/step - loss: 0.0019\n",
      "Epoch 61/100\n",
      "38/38 [==============================] - 3s 66ms/step - loss: 0.0022\n",
      "Epoch 62/100\n",
      "38/38 [==============================] - 2s 65ms/step - loss: 0.0023\n",
      "Epoch 63/100\n",
      "38/38 [==============================] - 3s 66ms/step - loss: 0.0025\n",
      "Epoch 64/100\n",
      "38/38 [==============================] - 2s 66ms/step - loss: 0.0020\n",
      "Epoch 65/100\n",
      "38/38 [==============================] - 2s 66ms/step - loss: 0.0021\n",
      "Epoch 66/100\n",
      "38/38 [==============================] - 3s 66ms/step - loss: 0.0020\n",
      "Epoch 67/100\n",
      "38/38 [==============================] - 3s 66ms/step - loss: 0.0018\n",
      "Epoch 68/100\n",
      "38/38 [==============================] - 2s 66ms/step - loss: 0.0021\n",
      "Epoch 69/100\n",
      "38/38 [==============================] - 2s 66ms/step - loss: 0.0019\n",
      "Epoch 70/100\n",
      "38/38 [==============================] - 3s 66ms/step - loss: 0.0022\n",
      "Epoch 71/100\n",
      "38/38 [==============================] - 2s 66ms/step - loss: 0.0021\n",
      "Epoch 72/100\n",
      "38/38 [==============================] - 3s 66ms/step - loss: 0.0020\n",
      "Epoch 73/100\n",
      "38/38 [==============================] - 3s 66ms/step - loss: 0.0021\n",
      "Epoch 74/100\n",
      "38/38 [==============================] - 3s 66ms/step - loss: 0.0018\n",
      "Epoch 75/100\n",
      "38/38 [==============================] - 3s 66ms/step - loss: 0.0019\n",
      "Epoch 76/100\n",
      "38/38 [==============================] - 3s 67ms/step - loss: 0.0019\n",
      "Epoch 77/100\n",
      "38/38 [==============================] - 3s 66ms/step - loss: 0.0015\n",
      "Epoch 78/100\n",
      "38/38 [==============================] - 3s 66ms/step - loss: 0.0017\n",
      "Epoch 79/100\n",
      "38/38 [==============================] - 2s 66ms/step - loss: 0.0017\n",
      "Epoch 80/100\n",
      "38/38 [==============================] - 3s 67ms/step - loss: 0.0017\n",
      "Epoch 81/100\n",
      "38/38 [==============================] - 3s 66ms/step - loss: 0.0015\n",
      "Epoch 82/100\n",
      "38/38 [==============================] - 3s 67ms/step - loss: 0.0020\n",
      "Epoch 83/100\n",
      "38/38 [==============================] - 3s 74ms/step - loss: 0.0016\n",
      "Epoch 84/100\n",
      "38/38 [==============================] - 3s 81ms/step - loss: 0.0016\n",
      "Epoch 85/100\n",
      "38/38 [==============================] - 3s 75ms/step - loss: 0.0017\n",
      "Epoch 86/100\n",
      "38/38 [==============================] - 3s 76ms/step - loss: 0.0015\n",
      "Epoch 87/100\n",
      "38/38 [==============================] - 3s 75ms/step - loss: 0.0017\n",
      "Epoch 88/100\n",
      "38/38 [==============================] - 3s 76ms/step - loss: 0.0021\n",
      "Epoch 89/100\n",
      "38/38 [==============================] - 3s 75ms/step - loss: 0.0017\n",
      "Epoch 90/100\n",
      "38/38 [==============================] - 3s 75ms/step - loss: 0.0017\n",
      "Epoch 91/100\n",
      "38/38 [==============================] - 3s 74ms/step - loss: 0.0015\n",
      "Epoch 92/100\n",
      "38/38 [==============================] - 3s 75ms/step - loss: 0.0015\n",
      "Epoch 93/100\n",
      "38/38 [==============================] - 3s 75ms/step - loss: 0.0016\n",
      "Epoch 94/100\n",
      "38/38 [==============================] - 3s 75ms/step - loss: 0.0017\n",
      "Epoch 95/100\n",
      "38/38 [==============================] - 3s 76ms/step - loss: 0.0015\n",
      "Epoch 96/100\n",
      "38/38 [==============================] - 3s 77ms/step - loss: 0.0016\n",
      "Epoch 97/100\n",
      "38/38 [==============================] - 3s 75ms/step - loss: 0.0013\n",
      "Epoch 98/100\n",
      "38/38 [==============================] - 3s 75ms/step - loss: 0.0018\n",
      "Epoch 99/100\n",
      "38/38 [==============================] - 3s 76ms/step - loss: 0.0014\n",
      "Epoch 100/100\n",
      "38/38 [==============================] - 3s 76ms/step - loss: 0.0014\n"
     ]
    },
    {
     "data": {
      "text/plain": [
       "<tensorflow.python.keras.callbacks.History at 0x26230e434f0>"
      ]
     },
     "execution_count": 42,
     "metadata": {},
     "output_type": "execute_result"
    }
   ],
   "source": [
    "regressor.fit(X_train , y_train , epochs = 100 , batch_size = 32)"
   ]
  },
  {
   "cell_type": "markdown",
   "id": "composite-involvement",
   "metadata": {},
   "source": [
    "# Part 3-- Predictions"
   ]
  },
  {
   "cell_type": "code",
   "execution_count": 44,
   "id": "endless-manner",
   "metadata": {},
   "outputs": [],
   "source": [
    "dataset_test = pd.read_csv('./Dataset/Google_Stock_Price_Test.csv')\n"
   ]
  },
  {
   "cell_type": "code",
   "execution_count": 45,
   "id": "tribal-reservoir",
   "metadata": {},
   "outputs": [
    {
     "data": {
      "text/html": [
       "<div>\n",
       "<style scoped>\n",
       "    .dataframe tbody tr th:only-of-type {\n",
       "        vertical-align: middle;\n",
       "    }\n",
       "\n",
       "    .dataframe tbody tr th {\n",
       "        vertical-align: top;\n",
       "    }\n",
       "\n",
       "    .dataframe thead th {\n",
       "        text-align: right;\n",
       "    }\n",
       "</style>\n",
       "<table border=\"1\" class=\"dataframe\">\n",
       "  <thead>\n",
       "    <tr style=\"text-align: right;\">\n",
       "      <th></th>\n",
       "      <th>Date</th>\n",
       "      <th>Open</th>\n",
       "      <th>High</th>\n",
       "      <th>Low</th>\n",
       "      <th>Close</th>\n",
       "      <th>Volume</th>\n",
       "    </tr>\n",
       "  </thead>\n",
       "  <tbody>\n",
       "    <tr>\n",
       "      <th>0</th>\n",
       "      <td>1/3/2017</td>\n",
       "      <td>778.81</td>\n",
       "      <td>789.63</td>\n",
       "      <td>775.80</td>\n",
       "      <td>786.14</td>\n",
       "      <td>1,657,300</td>\n",
       "    </tr>\n",
       "    <tr>\n",
       "      <th>1</th>\n",
       "      <td>1/4/2017</td>\n",
       "      <td>788.36</td>\n",
       "      <td>791.34</td>\n",
       "      <td>783.16</td>\n",
       "      <td>786.90</td>\n",
       "      <td>1,073,000</td>\n",
       "    </tr>\n",
       "    <tr>\n",
       "      <th>2</th>\n",
       "      <td>1/5/2017</td>\n",
       "      <td>786.08</td>\n",
       "      <td>794.48</td>\n",
       "      <td>785.02</td>\n",
       "      <td>794.02</td>\n",
       "      <td>1,335,200</td>\n",
       "    </tr>\n",
       "    <tr>\n",
       "      <th>3</th>\n",
       "      <td>1/6/2017</td>\n",
       "      <td>795.26</td>\n",
       "      <td>807.90</td>\n",
       "      <td>792.20</td>\n",
       "      <td>806.15</td>\n",
       "      <td>1,640,200</td>\n",
       "    </tr>\n",
       "    <tr>\n",
       "      <th>4</th>\n",
       "      <td>1/9/2017</td>\n",
       "      <td>806.40</td>\n",
       "      <td>809.97</td>\n",
       "      <td>802.83</td>\n",
       "      <td>806.65</td>\n",
       "      <td>1,272,400</td>\n",
       "    </tr>\n",
       "  </tbody>\n",
       "</table>\n",
       "</div>"
      ],
      "text/plain": [
       "       Date    Open    High     Low   Close     Volume\n",
       "0  1/3/2017  778.81  789.63  775.80  786.14  1,657,300\n",
       "1  1/4/2017  788.36  791.34  783.16  786.90  1,073,000\n",
       "2  1/5/2017  786.08  794.48  785.02  794.02  1,335,200\n",
       "3  1/6/2017  795.26  807.90  792.20  806.15  1,640,200\n",
       "4  1/9/2017  806.40  809.97  802.83  806.65  1,272,400"
      ]
     },
     "execution_count": 45,
     "metadata": {},
     "output_type": "execute_result"
    }
   ],
   "source": [
    "dataset_test.head()"
   ]
  },
  {
   "cell_type": "code",
   "execution_count": 53,
   "id": "exempt-board",
   "metadata": {},
   "outputs": [],
   "source": [
    "test_set = dataset_test.iloc[: , 1:2]"
   ]
  },
  {
   "cell_type": "code",
   "execution_count": 54,
   "id": "competent-shannon",
   "metadata": {},
   "outputs": [],
   "source": [
    "dataset_total = pd.concat((dataset_train['Open'] , dataset_test['Open']) , axis = 0)"
   ]
  },
  {
   "cell_type": "code",
   "execution_count": 55,
   "id": "destroyed-equation",
   "metadata": {},
   "outputs": [],
   "source": [
    "# taking only the last 60 prediction values from 1 Jan,2017 and converting inot the numpy\n",
    "inputs = dataset_total[len(dataset_total) - len(dataset_test) - 60 :].values"
   ]
  },
  {
   "cell_type": "code",
   "execution_count": 56,
   "id": "wound-depression",
   "metadata": {},
   "outputs": [
    {
     "data": {
      "text/plain": [
       "(80,)"
      ]
     },
     "execution_count": 56,
     "metadata": {},
     "output_type": "execute_result"
    }
   ],
   "source": [
    "inputs.shape"
   ]
  },
  {
   "cell_type": "code",
   "execution_count": 57,
   "id": "visible-bonus",
   "metadata": {},
   "outputs": [],
   "source": [
    "inputs = inputs.reshape(-1,1)"
   ]
  },
  {
   "cell_type": "code",
   "execution_count": 59,
   "id": "becoming-concert",
   "metadata": {},
   "outputs": [
    {
     "data": {
      "text/plain": [
       "(80, 1)"
      ]
     },
     "execution_count": 59,
     "metadata": {},
     "output_type": "execute_result"
    }
   ],
   "source": [
    "inputs.shape"
   ]
  },
  {
   "cell_type": "code",
   "execution_count": 60,
   "id": "vietnamese-retrieval",
   "metadata": {},
   "outputs": [],
   "source": [
    "inputs = sc.transform(inputs)"
   ]
  },
  {
   "cell_type": "code",
   "execution_count": 61,
   "id": "accredited-measurement",
   "metadata": {},
   "outputs": [],
   "source": [
    "X_test = []\n",
    "for i in range(60 , 80):\n",
    "    X_test.append(inputs[i-60 : i ,0])\n",
    "    "
   ]
  },
  {
   "cell_type": "code",
   "execution_count": 62,
   "id": "turkish-mouse",
   "metadata": {},
   "outputs": [],
   "source": [
    "X_test = np.array(X_test)"
   ]
  },
  {
   "cell_type": "code",
   "execution_count": 63,
   "id": "normal-ireland",
   "metadata": {},
   "outputs": [
    {
     "data": {
      "text/plain": [
       "(20, 60)"
      ]
     },
     "execution_count": 63,
     "metadata": {},
     "output_type": "execute_result"
    }
   ],
   "source": [
    "X_test.shape"
   ]
  },
  {
   "cell_type": "code",
   "execution_count": 68,
   "id": "satisfactory-compiler",
   "metadata": {},
   "outputs": [],
   "source": [
    "X_test = np.reshape(X_test,(X_test.shape[0] , X_test.shape[1],1))"
   ]
  },
  {
   "cell_type": "code",
   "execution_count": 69,
   "id": "broad-carnival",
   "metadata": {},
   "outputs": [],
   "source": [
    "predicted_stock_price = regressor.predict(X_test)"
   ]
  },
  {
   "cell_type": "code",
   "execution_count": 70,
   "id": "honest-parish",
   "metadata": {},
   "outputs": [],
   "source": [
    "predicted_stock_price = sc.inverse_transform(predicted_stock_price)"
   ]
  },
  {
   "cell_type": "code",
   "execution_count": 71,
   "id": "dated-whale",
   "metadata": {},
   "outputs": [
    {
     "data": {
      "image/png": "[encoded data removed]",
      "text/plain": [
       "<Figure size 432x288 with 1 Axes>"
      ]
     },
     "metadata": {
      "needs_background": "light"
     },
     "output_type": "display_data"
    }
   ],
   "source": [
    "plt.plot(predicted_stock_price , color = 'red' , label = 'predicted stock Price')\n",
    "plt.plot(test_set , color = 'Blue' , label = 'Actual stock Price')\n",
    "plt.xlabel(\"Time\")\n",
    "plt.ylabel('Stock Price')\n",
    "plt.legend()\n",
    "plt.show()"
   ]
  },
  {
   "cell_type": "code",
   "execution_count": null,
   "id": "civilian-binding",
   "metadata": {},
   "outputs": [],
   "source": []
  },
  {
   "cell_type": "code",
   "execution_count": null,
   "id": "enclosed-villa",
   "metadata": {},
   "outputs": [],
   "source": []
  },
  {
   "cell_type": "code",
   "execution_count": null,
   "id": "satisfactory-oracle",
   "metadata": {},
   "outputs": [],
   "source": []
  },
  {
   "cell_type": "code",
   "execution_count": null,
   "id": "graphic-tracy",
   "metadata": {},
   "outputs": [],
   "source": []
  },
  {
   "cell_type": "code",
   "execution_count": null,
   "id": "sufficient-characterization",
   "metadata": {},
   "outputs": [],
   "source": []
  },
  {
   "cell_type": "code",
   "execution_count": null,
   "id": "polar-diving",
   "metadata": {},
   "outputs": [],
   "source": []
  },
  {
   "cell_type": "code",
   "execution_count": null,
   "id": "complex-semester",
   "metadata": {},
   "outputs": [],
   "source": [
    "\n"
   ]
  },
  {
   "cell_type": "code",
   "execution_count": null,
   "id": "ethical-picking",
   "metadata": {},
   "outputs": [],
   "source": []
  },
  {
   "cell_type": "code",
   "execution_count": null,
   "id": "basic-challenge",
   "metadata": {},
   "outputs": [],
   "source": []
  },
  {
   "cell_type": "code",
   "execution_count": null,
   "id": "stuffed-nashville",
   "metadata": {},
   "outputs": [],
   "source": []
  },
  {
   "cell_type": "code",
   "execution_count": null,
   "id": "enabling-discovery",
   "metadata": {},
   "outputs": [],
   "source": []
  },
  {
   "cell_type": "code",
   "execution_count": null,
   "id": "secret-swift",
   "metadata": {},
   "outputs": [],
   "source": []
  }
 ],
 "metadata": {
  "kernelspec": {
   "display_name": "Python 3",
   "language": "python",
   "name": "python3"
  },
  "language_info": {
   "codemirror_mode": {
    "name": "ipython",
    "version": 3
   },
   "file_extension": ".py",
   "mimetype": "text/x-python",
   "name": "python",
   "nbconvert_exporter": "python",
   "pygments_lexer": "ipython3",
   "version": "3.8.5"
  }
 },
 "nbformat": 4,
 "nbformat_minor": 5
}
